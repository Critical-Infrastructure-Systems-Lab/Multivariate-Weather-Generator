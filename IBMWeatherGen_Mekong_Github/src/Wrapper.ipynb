{
 "cells": [
  {
   "cell_type": "code",
   "execution_count": 1,
   "metadata": {},
   "outputs": [
    {
     "name": "stdout",
     "output_type": "stream",
     "text": [
      "Simulation 1\n",
      "\n",
      "Year: [[2022]] | Simulation: [[1/1]]\n"
     ]
    }
   ],
   "source": [
    "i = 0\n",
    "while i < 1: # Number of simulations\n",
    "    print(\"Simulation\", i+1)\n",
    "    try:\n",
    "        exec(open(\"execute_IBMWeatherGen_json.py\").read())\n",
    "    except:\n",
    "        pass\n",
    "    i = i + 1"
   ]
  }
 ],
 "metadata": {
  "kernelspec": {
   "display_name": "IBMWeatherGen",
   "language": "python",
   "name": "python3"
  },
  "language_info": {
   "codemirror_mode": {
    "name": "ipython",
    "version": 3
   },
   "file_extension": ".py",
   "mimetype": "text/x-python",
   "name": "python",
   "nbconvert_exporter": "python",
   "pygments_lexer": "ipython3",
   "version": "3.8.18"
  }
 },
 "nbformat": 4,
 "nbformat_minor": 2
}
